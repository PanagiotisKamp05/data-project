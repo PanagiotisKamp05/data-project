{
 "cells": [
  {
   "cell_type": "markdown",
   "metadata": {},
   "source": [
    "# Data Project Pitch"
   ]
  },
  {
   "cell_type": "markdown",
   "metadata": {},
   "source": [
    "### Σύνοψη "
   ]
  },
  {
   "cell_type": "markdown",
   "metadata": {},
   "source": [
    "Ο ετήσιος αριθμός γάμων στη χώρα μας τα τελευταία χρόνια, παρουσιάζει σημαντική ύφεση. Στην έρευνά μας θα μελετήσουμε τα δεδομένα της τελευταίας δεκαετίας όπως αυτά προκύπτουν από τα στοιχεία της ΕΛΣΤΑΤ. Παράλληλα, θα εντοπίσουμε τις ηλικίες των συζύγων κατά την τέλεση του γάμου. Ταυτόχρονα θα συγκρίνουμε τα δεδομένα της χώρας μας με αυτά των ευρωπαϊκών χωρών με αντίστοιχο πληθυσμό.Τα σύμφωνα συμβίωσης αποτελούν στις μέρες μας μία νέα μορφή \"επισημοποίησης\" της σχέσης, με αποτέλεσμα πολλά ζευγάρια να καταφεύγουν σε αυτή την επιλογή. Συνεπώς, θα αναδείξουμε την ανοδική τους πορεία στη χώρα μας. Ακολούθως, θα διερευνήσουμε τον αριθμό των διαζυγίων που καταγράφονται στην Ελλάδα και στις αντίστοιχες ευρωπαϊκές χώρες ανά έτος την τελευταία δεκαετία."
   ]
  },
  {
   "cell_type": "markdown",
   "metadata": {},
   "source": [
    "### Έμπνευση"
   ]
  },
  {
   "cell_type": "markdown",
   "metadata": {},
   "source": [
    "https://www.ertnews.gr/eidiseis/mono-sto-ertgr/ta-diazygia-ayxanontai-oi-gamoi-meionontai-o-gamos-apo-erota-echei-apotychei/\n",
    "\n",
    "https://www.skai.gr/news/world/eurostat-gamoi-katakoryfi-meiosi-stin-eyropi-i-thesi-tis-xoras-mas"
   ]
  },
  {
   "cell_type": "markdown",
   "metadata": {},
   "source": [
    "### Περαιτέρω πληροφορίες για το θέμα σας"
   ]
  },
  {
   "cell_type": "markdown",
   "metadata": {},
   "source": [
    "Τίτλος εργασίας: \"Όλα του γάμου δύσκολα\"\n",
    "\n",
    "Πηγές δεδομένων:https://www.statistics.gr/el/statistics/-/publication/SPO06/2020\n",
    "\n",
    "https://www.statistics.gr/el/statistics/-/publication/SJU09/-\n",
    "\n",
    "https://ourworldindata.org/marriages-and-divorces#marriages-are-becoming-less-common\n",
    "\n",
    "https://ec.europa.eu/eurostat/databrowser/view/demo_nind/default/table?lang=en"
   ]
  },
  {
   "cell_type": "markdown",
   "metadata": {},
   "source": [
    "## Ερευνητικά ερωτήματα"
   ]
  },
  {
   "cell_type": "markdown",
   "metadata": {},
   "source": [
    "1Πως διαμορφώνεται ο ετήσιος αριθμός γάμων (θρησκευτικοί και πολιτικοί) στην Ελλάδα τα τελευαία δέκα χρόνια;\n",
    "2Τι ηλικίες παντρεύονται στην Ελλάδα και στο εξωτερικό;\n",
    "3Ποιές διαφοροποιήσεις παρουσιάζονται στον αριθμό των γάμων σε δείγμα χωρών της Ε.Ε. με πληθυσμό αντίστοιχο της Ελλάδας;\n",
    "4Πόσα διαζύγια εκδίδονται τον χρόνο;\n",
    "5)Ποιος ο αριθμός των συμφώνων συμβίωσης στην Ελλάδα τα τελευταία δέκα χρόνια;"
   ]
  },
  {
   "cell_type": "markdown",
   "metadata": {},
   "source": [
    "## Προέρευνα/δουλειά που έχετε ήδη κάνει στο πλαίσιο του σχεδιασμού του πρότζεκτ"
   ]
  },
  {
   "cell_type": "markdown",
   "metadata": {},
   "source": [
    "Αρχικά έχουμε βρει και έχουμε κατεβάσει όλα τα δεδομένα που μας είναι απαραίτητα για την εκπόνηση της εργασίας μας. Η μορφή των περισσότερων από αυτών είναι σε excel. Κάναμε μια πρώτη έρευνα στα δεδομένα και παρατηρήσαμε μικρές αυξομειώσεις στην καταγραφή των γάμων το πρώτο διάστημα της δεκαετίας που θα μελετήσουμε (2010-2021) πριν την μεγάλη πτώση στη διεξαγωγή γάμων. Ακόμα, παρατηρήσαμε τα δεδομένα που υπάρχουν για γάμους στις υπόλοιπες χώρες της Ε.Ε. και διαπιστώσαμε ότι σε κάποιες εξ' αυτών υπάρχουν σημαντικές διαφοροποιήσεις. Γι' αυτό, θα επιλέξουμε τα δύο κράτη που οι γάμοι έχουν αυξηθεί και τις δύο χώρες με τον μικρότερο αριθμό γάμων ώστε να τα συγκρίνουμε με αυτά της Ελλάδας.\n",
    "https://ourworldindata.org/grapher/marriage-rate-per-1000-inhabitants?time=2010..latest&country=GRC~AUT~BEL~BGR~CYP~HRV~CZE~DNK~EST~FIN~FRA~DEU~HUN~IRL~ITA~LVA~LTU~LUX~MLT~NLD~POL~PRT~ROU~SVK~SVN~ESP~SWE"
   ]
  },
  {
   "cell_type": "markdown",
   "metadata": {},
   "source": [
    "## Απαντήστε \"YES\" ή \"NO\" στα παρακάτω ερωτήματα\n",
    "<i>(Στο στάδιο της πρότασης θέματος που βρίσκεστε, το αναμενόμενο είναι YES. Όσα περισσότερα NO, τόσο λιγότερο έχετε προετοιμαστεί και, άρα, χρειάζεται να σχεδιάσετε καλύτερα το πρότζεκτ σας.)</i>"
   ]
  },
  {
   "cell_type": "code",
   "execution_count": 1,
   "metadata": {},
   "outputs": [
    {
     "name": "stdout",
     "output_type": "stream",
     "text": [
      "Έχετε ψάξει για πηγές δεδομένων για το θέμα που θέλετε να κάνετε;yes\n"
     ]
    },
    {
     "data": {
      "text/plain": [
       "'yes'"
      ]
     },
     "execution_count": 1,
     "metadata": {},
     "output_type": "execute_result"
    }
   ],
   "source": [
    "input(\"Έχετε ψάξει για πηγές δεδομένων για το θέμα που θέλετε να κάνετε;\")"
   ]
  },
  {
   "cell_type": "code",
   "execution_count": 2,
   "metadata": {},
   "outputs": [
    {
     "name": "stdout",
     "output_type": "stream",
     "text": [
      "Έχετε βρει δεδομένα/πηγές δεδομένων για το θέμα που θέλετε να κάνετε;yes\n"
     ]
    },
    {
     "data": {
      "text/plain": [
       "'yes'"
      ]
     },
     "execution_count": 2,
     "metadata": {},
     "output_type": "execute_result"
    }
   ],
   "source": [
    "input(\"Έχετε βρει δεδομένα/πηγές δεδομένων για το θέμα που θέλετε να κάνετε;\")"
   ]
  },
  {
   "cell_type": "code",
   "execution_count": 3,
   "metadata": {},
   "outputs": [
    {
     "name": "stdout",
     "output_type": "stream",
     "text": [
      "Έχετε περάσει χρόνο εξερευνώντας τα δεδομένα σας; Έχετε καταλάβει τι έχετε, σε ποια μορφή είναι και ενδεχομένως τι σας λείπει;yes\n"
     ]
    },
    {
     "data": {
      "text/plain": [
       "'yes'"
      ]
     },
     "execution_count": 3,
     "metadata": {},
     "output_type": "execute_result"
    }
   ],
   "source": [
    "input(\"Έχετε περάσει χρόνο εξερευνώντας τα δεδομένα σας; Έχετε καταλάβει τι έχετε, σε ποια μορφή είναι και ενδεχομένως τι σας λείπει;\")"
   ]
  },
  {
   "cell_type": "code",
   "execution_count": 4,
   "metadata": {},
   "outputs": [
    {
     "name": "stdout",
     "output_type": "stream",
     "text": [
      "Έχετε διατυπώσει τα ερευνητικά ερωτήματά σας;yes\n"
     ]
    },
    {
     "data": {
      "text/plain": [
       "'yes'"
      ]
     },
     "execution_count": 4,
     "metadata": {},
     "output_type": "execute_result"
    }
   ],
   "source": [
    "input(\"Έχετε διατυπώσει τα ερευνητικά ερωτήματά σας;\")"
   ]
  },
  {
   "cell_type": "code",
   "execution_count": 5,
   "metadata": {},
   "outputs": [
    {
     "name": "stdout",
     "output_type": "stream",
     "text": [
      "Έχετε σκεφτεί πώς θα αναλύσετε τα δεδομένα σας, για να απαντήσετε τα ερευνητικά ερωτήματά σας;yes\n"
     ]
    },
    {
     "data": {
      "text/plain": [
       "'yes'"
      ]
     },
     "execution_count": 5,
     "metadata": {},
     "output_type": "execute_result"
    }
   ],
   "source": [
    "input(\"Έχετε σκεφτεί πώς θα αναλύσετε τα δεδομένα σας, για να απαντήσετε τα ερευνητικά ερωτήματά σας;\")"
   ]
  },
  {
   "cell_type": "code",
   "execution_count": 6,
   "metadata": {},
   "outputs": [
    {
     "name": "stdout",
     "output_type": "stream",
     "text": [
      "Έχετε αρχίσει να σκέφτεστε πώς θα μπορούσατε να οπτικοποιήσετε τις αναλύσεις σας για το τελικό σας story;no\n"
     ]
    },
    {
     "data": {
      "text/plain": [
       "'no'"
      ]
     },
     "execution_count": 6,
     "metadata": {},
     "output_type": "execute_result"
    }
   ],
   "source": [
    "input(\"Έχετε αρχίσει να σκέφτεστε πώς θα μπορούσατε να οπτικοποιήσετε τις αναλύσεις σας για το τελικό σας story;\")"
   ]
  },
  {
   "cell_type": "code",
   "execution_count": 7,
   "metadata": {},
   "outputs": [
    {
     "name": "stdout",
     "output_type": "stream",
     "text": [
      "Έχετε καταθέσει το pitch σας (το προτεινόμενο θέμα σας) σε ένα notebook με filename PITCH_ΟΝΟΜΑΤΕΠΩΝΥΜΟ1_ΟΝΟΜΑΤΕΠΩΝΥΜΟ2;yes\n"
     ]
    },
    {
     "data": {
      "text/plain": [
       "'yes'"
      ]
     },
     "execution_count": 7,
     "metadata": {},
     "output_type": "execute_result"
    }
   ],
   "source": [
    "input(\"Έχετε καταθέσει το pitch σας (το προτεινόμενο θέμα σας) σε ένα notebook με filename PITCH_ΟΝΟΜΑΤΕΠΩΝΥΜΟ1_ΟΝΟΜΑΤΕΠΩΝΥΜΟ2;\")"
   ]
  },
  {
   "cell_type": "code",
   "execution_count": null,
   "metadata": {},
   "outputs": [],
   "source": [
    "Feedback!\n",
    "Το θέμα σας είναι αρκετά συγκεκριμένο και, εφόσον έχετε ήδη βρει δομημένα δεδομένα για όλα σας τα ερωτήματα, έχετε χρόνο ίσως να μελετήσετε όλες τις χώρες της ΕΕ (θα χρειαστεί να βρείτε συγκρίσιμο διάστημα μελέτης).\n",
    "Αν, πάντως, θελήσετε να μείνετε στην Ελλάδα + 4, θέλει λίγη προσοχή αυτό που γράφετε: \"Γι' αυτό, θα επιλέξουμε τα δύο κράτη που οι γάμοι έχουν αυξηθεί και τις δύο χώρες με τον μικρότερο αριθμό γάμων ώστε να τα συγκρίνουμε με αυτά της Ελλάδας\". Η καταγραφή αύξησης δεν σημαίνει \"οι περισσότεροι γάμοι στην Ευρώπη\" απαραίτητα. Επίσης, ο \"μικρότερος αριθμός γάμων\" δεν σημαίνει ότι μειώθηκαν τη χρονιά x στη χώρα καταγραφής (μπορεί να ήταν πάντα λίγοι). Επίσης, ο \"μικρότερος αριθμός γάμων\" ενδεχομένως να είναι συνάρτηση του πληθυσμού. Επομένως, εάν θέλετε να επιλέξετε συγκεκριμένες χώρες της ΕΕ, θα πρότεινα να σκεφτείτε ομοιογενή κριτήρια και, πάντως, σίγουρα να κάνετε τα data σας συγκρίσιμα (π.χ. με κανονικοποίηση βάσει πληθυσμού).\n",
    "Ως προς τα διαζύγια και τη διάρκεια του γάμου έως τότε, στο link που παραθέσατε, τα δεδομένα της ΕΛΣΤΑΤ σταματούν το 2017. Είναι αυτά τα πιο πρόσφατα διαθέσιμα;\n",
    "Το ερώτημα 2 θα το απαντήσετε για το σύνολο του πληθυσμού ή ανά φύλο;"
   ]
  }
 ],
 "metadata": {
  "kernelspec": {
   "display_name": "Python 3 (ipykernel)",
   "language": "python",
   "name": "python3"
  },
  "language_info": {
   "codemirror_mode": {
    "name": "ipython",
    "version": 3
   },
   "file_extension": ".py",
   "mimetype": "text/x-python",
   "name": "python",
   "nbconvert_exporter": "python",
   "pygments_lexer": "ipython3",
   "version": "3.11.0"
  }
 },
 "nbformat": 4,
 "nbformat_minor": 2
}
