{
 "cells": [
  {
   "cell_type": "markdown",
   "metadata": {},
   "source": [
    "# Data Project Pitch"
   ]
  },
  {
   "cell_type": "markdown",
   "metadata": {},
   "source": [
    "### Σύνοψη "
   ]
  },
  {
   "cell_type": "markdown",
   "metadata": {},
   "source": [
    "Ο ετήσιος αριθμός γάμων στη χώρα μας τα τελευταία χρόνια, παρουσιάζει σημαντική μείωση. Στην έρευνά μας θα μελετήσουμε τα στοιχεία της τελευταίας δεκαετίας όπως αυτά προκύπτουν από τα στοιχεία της ΕΛΣΤΑΤ. Παράλληλα, θα εντοπίσουμε τις ηλικίες των συζήγων κατά την τέλεση του γάμου. Ακολούθως, θα διαπιστώσουμε το χρονικό διάστημα που μεσολαβεί από την έναρξη ενός γάμου μέχρι το διαζύγιο. Τέλος, θα κάνουμε μία σύγκριση των στοιχείων της Ελλάδας στους ετήσιους γάμους με αντίστοιχα τεσσάρων Ευρωπαϊκών χωρών. "
   ]
  },
  {
   "cell_type": "markdown",
   "metadata": {},
   "source": [
    "### Έμπνευση"
   ]
  },
  {
   "cell_type": "markdown",
   "metadata": {},
   "source": [
    "https://www.ertnews.gr/eidiseis/mono-sto-ertgr/ta-diazygia-ayxanontai-oi-gamoi-meionontai-o-gamos-apo-erota-echei-apotychei/\n",
    "\n",
    "https://www.skai.gr/news/world/eurostat-gamoi-katakoryfi-meiosi-stin-eyropi-i-thesi-tis-xoras-mas"
   ]
  },
  {
   "cell_type": "markdown",
   "metadata": {},
   "source": [
    "### Περαιτέρω πληροφορίες για το θέμα σας"
   ]
  },
  {
   "cell_type": "markdown",
   "metadata": {},
   "source": [
    "Τίτλος εργασίας: μείωση γάμων\n",
    "Πηγές δεδομένων:https://www.statistics.gr/el/statistics/-/publication/SPO06/2020\n",
    "\n",
    "https://www.statistics.gr/el/statistics/-/publication/SJU09/-\n",
    "\n",
    "https://ourworldindata.org/marriages-and-divorces#marriages-are-becoming-less-common\n",
    "\n",
    "https://ec.europa.eu/eurostat/databrowser/view/demo_nind/default/table?lang=en"
   ]
  },
  {
   "cell_type": "markdown",
   "metadata": {},
   "source": [
    "## Ερευνητικά ερωτήματα"
   ]
  },
  {
   "cell_type": "markdown",
   "metadata": {},
   "source": [
    "1Πως διαμορφώνεται ο ετήσιος αριθμός γάμων (θρησκευτικοί και πολιτικοί) στην Ελλάδα τα τελευαία δέκα χρόνια\n",
    "2Τι ηλικίες παντρεύονται στην Ελλάδα\n",
    "3Ποιές διαφοροποιήσεις παρουσιάζονται στον αριθμό των γάμων σε δείγμα πέντε χωρών της Ε.Ε.\n",
    "4Ποιό είναι το χρονικό διάστημα που μεσολαβεί από την έναρξη ενός γάμου στη χώρα μας ως το διαζύγιο."
   ]
  },
  {
   "cell_type": "markdown",
   "metadata": {},
   "source": [
    "## Προέρευνα/δουλειά που έχετε ήδη κάνει στο πλαίσιο του σχεδιασμού του πρότζεκτ"
   ]
  },
  {
   "cell_type": "markdown",
   "metadata": {},
   "source": [
    "Αρχικά έχουμε βρει και έχουμε κατεβάσει όλα τα δεδομένα που μας είναι απαραίτητα για την εκπόνηση της εργασίας μας. Η μορφή των περισσότερων από αυτών είναι σε excel. Κάναμε μια πρώτη έρευνα στα δεδομένα και παρατηρήσαμε μικρές αυξομειώσεις στην καταγραφή των γάμων το πρώτο διάστημα της δεκαετίας που θα μελετήσουμε (2010-2021) πριν την μεγάλη πτώση στη διεξαγωγή γάμων. Ακόμα, παρατηρήσαμε τα δεδομένα που υπάρχουν για γάμους στις υπόλοιπες χώρες της Ε.Ε. και διαπιστώσαμε ότι σε κάποιες εξ' αυτών υπάρχουν σημαντικές διαφοροποιήσεις. Γι' αυτό, θα επιλέξουμε τα δύο κράτη που οι γάμοι έχουν αυξηθεί και τις δύο χώρες με τον μικρότερο αριθμό γάμων ώστε να τα συγκρίνουμε με αυτά της Ελλάδας.\n",
    "https://ourworldindata.org/grapher/marriage-rate-per-1000-inhabitants?time=2010..latest&country=GRC~AUT~BEL~BGR~CYP~HRV~CZE~DNK~EST~FIN~FRA~DEU~HUN~IRL~ITA~LVA~LTU~LUX~MLT~NLD~POL~PRT~ROU~SVK~SVN~ESP~SWE"
   ]
  },
  {
   "cell_type": "markdown",
   "metadata": {},
   "source": [
    "## Απαντήστε \"YES\" ή \"NO\" στα παρακάτω ερωτήματα\n",
    "<i>(Στο στάδιο της πρότασης θέματος που βρίσκεστε, το αναμενόμενο είναι YES. Όσα περισσότερα NO, τόσο λιγότερο έχετε προετοιμαστεί και, άρα, χρειάζεται να σχεδιάσετε καλύτερα το πρότζεκτ σας.)</i>"
   ]
  },
  {
   "cell_type": "code",
   "execution_count": 1,
   "metadata": {},
   "outputs": [
    {
     "name": "stdout",
     "output_type": "stream",
     "text": [
      "Έχετε ψάξει για πηγές δεδομένων για το θέμα που θέλετε να κάνετε;yes\n"
     ]
    },
    {
     "data": {
      "text/plain": [
       "'yes'"
      ]
     },
     "execution_count": 1,
     "metadata": {},
     "output_type": "execute_result"
    }
   ],
   "source": [
    "input(\"Έχετε ψάξει για πηγές δεδομένων για το θέμα που θέλετε να κάνετε;\")"
   ]
  },
  {
   "cell_type": "code",
   "execution_count": 2,
   "metadata": {},
   "outputs": [
    {
     "name": "stdout",
     "output_type": "stream",
     "text": [
      "Έχετε βρει δεδομένα/πηγές δεδομένων για το θέμα που θέλετε να κάνετε;yes\n"
     ]
    },
    {
     "data": {
      "text/plain": [
       "'yes'"
      ]
     },
     "execution_count": 2,
     "metadata": {},
     "output_type": "execute_result"
    }
   ],
   "source": [
    "input(\"Έχετε βρει δεδομένα/πηγές δεδομένων για το θέμα που θέλετε να κάνετε;\")"
   ]
  },
  {
   "cell_type": "code",
   "execution_count": 3,
   "metadata": {},
   "outputs": [
    {
     "name": "stdout",
     "output_type": "stream",
     "text": [
      "Έχετε περάσει χρόνο εξερευνώντας τα δεδομένα σας; Έχετε καταλάβει τι έχετε, σε ποια μορφή είναι και ενδεχομένως τι σας λείπει;yes\n"
     ]
    },
    {
     "data": {
      "text/plain": [
       "'yes'"
      ]
     },
     "execution_count": 3,
     "metadata": {},
     "output_type": "execute_result"
    }
   ],
   "source": [
    "input(\"Έχετε περάσει χρόνο εξερευνώντας τα δεδομένα σας; Έχετε καταλάβει τι έχετε, σε ποια μορφή είναι και ενδεχομένως τι σας λείπει;\")"
   ]
  },
  {
   "cell_type": "code",
   "execution_count": 4,
   "metadata": {},
   "outputs": [
    {
     "name": "stdout",
     "output_type": "stream",
     "text": [
      "Έχετε διατυπώσει τα ερευνητικά ερωτήματά σας;yes\n"
     ]
    },
    {
     "data": {
      "text/plain": [
       "'yes'"
      ]
     },
     "execution_count": 4,
     "metadata": {},
     "output_type": "execute_result"
    }
   ],
   "source": [
    "input(\"Έχετε διατυπώσει τα ερευνητικά ερωτήματά σας;\")"
   ]
  },
  {
   "cell_type": "code",
   "execution_count": 5,
   "metadata": {},
   "outputs": [
    {
     "name": "stdout",
     "output_type": "stream",
     "text": [
      "Έχετε σκεφτεί πώς θα αναλύσετε τα δεδομένα σας, για να απαντήσετε τα ερευνητικά ερωτήματά σας;yes\n"
     ]
    },
    {
     "data": {
      "text/plain": [
       "'yes'"
      ]
     },
     "execution_count": 5,
     "metadata": {},
     "output_type": "execute_result"
    }
   ],
   "source": [
    "input(\"Έχετε σκεφτεί πώς θα αναλύσετε τα δεδομένα σας, για να απαντήσετε τα ερευνητικά ερωτήματά σας;\")"
   ]
  },
  {
   "cell_type": "code",
   "execution_count": 6,
   "metadata": {},
   "outputs": [
    {
     "name": "stdout",
     "output_type": "stream",
     "text": [
      "Έχετε αρχίσει να σκέφτεστε πώς θα μπορούσατε να οπτικοποιήσετε τις αναλύσεις σας για το τελικό σας story;no\n"
     ]
    },
    {
     "data": {
      "text/plain": [
       "'no'"
      ]
     },
     "execution_count": 6,
     "metadata": {},
     "output_type": "execute_result"
    }
   ],
   "source": [
    "input(\"Έχετε αρχίσει να σκέφτεστε πώς θα μπορούσατε να οπτικοποιήσετε τις αναλύσεις σας για το τελικό σας story;\")"
   ]
  },
  {
   "cell_type": "code",
   "execution_count": 7,
   "metadata": {},
   "outputs": [
    {
     "name": "stdout",
     "output_type": "stream",
     "text": [
      "Έχετε καταθέσει το pitch σας (το προτεινόμενο θέμα σας) σε ένα notebook με filename PITCH_ΟΝΟΜΑΤΕΠΩΝΥΜΟ1_ΟΝΟΜΑΤΕΠΩΝΥΜΟ2;yes\n"
     ]
    },
    {
     "data": {
      "text/plain": [
       "'yes'"
      ]
     },
     "execution_count": 7,
     "metadata": {},
     "output_type": "execute_result"
    }
   ],
   "source": [
    "input(\"Έχετε καταθέσει το pitch σας (το προτεινόμενο θέμα σας) σε ένα notebook με filename PITCH_ΟΝΟΜΑΤΕΠΩΝΥΜΟ1_ΟΝΟΜΑΤΕΠΩΝΥΜΟ2;\")"
   ]
  },
  {
   "cell_type": "code",
   "execution_count": null,
   "metadata": {},
   "outputs": [],
   "source": []
  }
 ],
 "metadata": {
  "kernelspec": {
   "display_name": "Python 3 (ipykernel)",
   "language": "python",
   "name": "python3"
  },
  "language_info": {
   "codemirror_mode": {
    "name": "ipython",
    "version": 3
   },
   "file_extension": ".py",
   "mimetype": "text/x-python",
   "name": "python",
   "nbconvert_exporter": "python",
   "pygments_lexer": "ipython3",
   "version": "3.11.0"
  }
 },
 "nbformat": 4,
 "nbformat_minor": 2
}
